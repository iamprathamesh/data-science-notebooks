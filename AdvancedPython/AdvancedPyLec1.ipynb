{
 "cells": [
  {
   "cell_type": "code",
   "execution_count": 2,
   "metadata": {},
   "outputs": [],
   "source": [
    "names = [\"Shruti\", \"Prathamesh\", \"chaitanya\", \"valibhav\", \"malhar\", \"Madur\"]\n",
    "upperNames = []\n",
    "lowerNames = []\n",
    "for name in names:\n",
    "    if(name.islower()):\n",
    "        lowerNames.append(name)\n",
    "    else:\n",
    "        upperNames.append(name)"
   ]
  },
  {
   "cell_type": "code",
   "execution_count": 18,
   "metadata": {},
   "outputs": [
    {
     "data": {
      "text/plain": [
       "['__add__',\n",
       " '__class__',\n",
       " '__contains__',\n",
       " '__delattr__',\n",
       " '__delitem__',\n",
       " '__dir__',\n",
       " '__doc__',\n",
       " '__eq__',\n",
       " '__format__',\n",
       " '__ge__',\n",
       " '__getattribute__',\n",
       " '__getitem__',\n",
       " '__gt__',\n",
       " '__hash__',\n",
       " '__iadd__',\n",
       " '__imul__',\n",
       " '__init__',\n",
       " '__init_subclass__',\n",
       " '__iter__',\n",
       " '__le__',\n",
       " '__len__',\n",
       " '__lt__',\n",
       " '__mul__',\n",
       " '__ne__',\n",
       " '__new__',\n",
       " '__reduce__',\n",
       " '__reduce_ex__',\n",
       " '__repr__',\n",
       " '__reversed__',\n",
       " '__rmul__',\n",
       " '__setattr__',\n",
       " '__setitem__',\n",
       " '__sizeof__',\n",
       " '__str__',\n",
       " '__subclasshook__',\n",
       " 'append',\n",
       " 'clear',\n",
       " 'copy',\n",
       " 'count',\n",
       " 'extend',\n",
       " 'index',\n",
       " 'insert',\n",
       " 'pop',\n",
       " 'remove',\n",
       " 'reverse',\n",
       " 'sort']"
      ]
     },
     "execution_count": 18,
     "metadata": {},
     "output_type": "execute_result"
    }
   ],
   "source": [
    "dir(lowerNames)"
   ]
  },
  {
   "cell_type": "code",
   "execution_count": 26,
   "metadata": {},
   "outputs": [],
   "source": [
    "newNames = [\"ANNA\", \"MANNA\", \"YANNA\", \"NAMAN\", \"RAMAN\", \"IHGGHI\"]\n",
    "palindromes = []\n",
    "notPalindromes = []\n",
    "\n",
    "def isPalindrome(name):\n",
    "    count = len(name) - 1\n",
    "    i = 0\n",
    "    palindromes.append(name)\n",
    "    while(i <= count):\n",
    "        if(name[i].lower() != name[count].lower()):\n",
    "            #palindromes.remove(name)\n",
    "            #notPalindromes.append(name)\n",
    "            return False\n",
    "        i += 1\n",
    "        count -= 1\n",
    "    return True"
   ]
  },
  {
   "cell_type": "code",
   "execution_count": 23,
   "metadata": {},
   "outputs": [
    {
     "data": {
      "text/plain": [
       "['MANNA', 'YANNA', 'RAMAN']"
      ]
     },
     "execution_count": 23,
     "metadata": {},
     "output_type": "execute_result"
    }
   ],
   "source": [
    "notPalindromes"
   ]
  },
  {
   "cell_type": "code",
   "execution_count": 24,
   "metadata": {},
   "outputs": [
    {
     "data": {
      "text/plain": [
       "['ANNA', 'NAMAN', 'IHGGHI']"
      ]
     },
     "execution_count": 24,
     "metadata": {},
     "output_type": "execute_result"
    }
   ],
   "source": [
    "palindromes"
   ]
  },
  {
   "cell_type": "code",
   "execution_count": 28,
   "metadata": {},
   "outputs": [],
   "source": [
    "filteredResults = filter(isPalindrome, newNames)"
   ]
  },
  {
   "cell_type": "code",
   "execution_count": 31,
   "metadata": {},
   "outputs": [
    {
     "name": "stdout",
     "output_type": "stream",
     "text": [
      "ANNA\n",
      "NAMAN\n",
      "IHGGHI\n"
     ]
    }
   ],
   "source": [
    "for result in filteredResults:\n",
    "    print(result)"
   ]
  },
  {
   "cell_type": "code",
   "execution_count": 34,
   "metadata": {},
   "outputs": [
    {
     "name": "stdout",
     "output_type": "stream",
     "text": [
      "Valid sentence\n",
      "Invalid sentence\n",
      "Invalid sentence\n"
     ]
    }
   ],
   "source": [
    "sentences = [\"Shubham is a good boy.\", \"shubham is a good boy.\", \"Shubham is a good boy\"]\n",
    "\n",
    "for sentence in sentences:\n",
    "    if(sentence[0].isupper() and sentence[len(sentence)-1] == \".\"):\n",
    "        print(\"Valid sentence\")\n",
    "    else:\n",
    "        print(\"Invalid sentence\")"
   ]
  },
  {
   "cell_type": "code",
   "execution_count": 35,
   "metadata": {},
   "outputs": [],
   "source": [
    "import copy as cp"
   ]
  },
  {
   "cell_type": "code",
   "execution_count": 36,
   "metadata": {},
   "outputs": [
    {
     "data": {
      "text/plain": [
       "['Error',\n",
       " '__all__',\n",
       " '__builtins__',\n",
       " '__cached__',\n",
       " '__doc__',\n",
       " '__file__',\n",
       " '__loader__',\n",
       " '__name__',\n",
       " '__package__',\n",
       " '__spec__',\n",
       " '_copy_dispatch',\n",
       " '_copy_immutable',\n",
       " '_deepcopy_atomic',\n",
       " '_deepcopy_dict',\n",
       " '_deepcopy_dispatch',\n",
       " '_deepcopy_list',\n",
       " '_deepcopy_method',\n",
       " '_deepcopy_tuple',\n",
       " '_keep_alive',\n",
       " '_reconstruct',\n",
       " 'copy',\n",
       " 'deepcopy',\n",
       " 'dispatch_table',\n",
       " 'error']"
      ]
     },
     "execution_count": 36,
     "metadata": {},
     "output_type": "execute_result"
    }
   ],
   "source": [
    "dir(cp)"
   ]
  },
  {
   "cell_type": "code",
   "execution_count": 39,
   "metadata": {},
   "outputs": [
    {
     "name": "stdout",
     "output_type": "stream",
     "text": [
      "4350889032\n",
      "4302112448\n",
      "4350230600\n",
      "4302113408\n",
      "---------------------------------\n",
      "4350889032\n",
      "4302112448\n",
      "4350230600\n",
      "4302113408\n"
     ]
    }
   ],
   "source": [
    "A = [10, [20, 30], 40]\n",
    "\n",
    "B = A\n",
    "\n",
    "print(id(A))\n",
    "for data in A:\n",
    "    print(id(data))\n",
    "    \n",
    "print(\"---------------------------------\")\n",
    "    \n",
    "print(id(B))\n",
    "for data in B:\n",
    "    print(id(data))"
   ]
  },
  {
   "cell_type": "code",
   "execution_count": 40,
   "metadata": {},
   "outputs": [
    {
     "name": "stdout",
     "output_type": "stream",
     "text": [
      "4350889032\n",
      "4302112448\n",
      "4350230600\n",
      "4302113408\n",
      "---------------------------------\n",
      "4351671880\n",
      "4302112448\n",
      "4350230600\n",
      "4302113408\n"
     ]
    }
   ],
   "source": [
    "B = cp.copy(A)\n",
    "\n",
    "print(id(A))\n",
    "for data in A:\n",
    "    print(id(data))\n",
    "    \n",
    "print(\"---------------------------------\")\n",
    "    \n",
    "print(id(B))\n",
    "for data in B:\n",
    "    print(id(data))"
   ]
  },
  {
   "cell_type": "code",
   "execution_count": 41,
   "metadata": {},
   "outputs": [
    {
     "name": "stdout",
     "output_type": "stream",
     "text": [
      "4350889032\n",
      "4302112448\n",
      "4350230600\n",
      "4302113408\n",
      "---------------------------------\n",
      "4349576648\n",
      "4302112448\n",
      "4349576968\n",
      "4302113408\n"
     ]
    }
   ],
   "source": [
    "B = cp.deepcopy(A)\n",
    "\n",
    "print(id(A))\n",
    "for data in A:\n",
    "    print(id(data))\n",
    "    \n",
    "print(\"---------------------------------\")\n",
    "    \n",
    "print(id(B))\n",
    "for data in B:\n",
    "    print(id(data))"
   ]
  },
  {
   "cell_type": "code",
   "execution_count": 42,
   "metadata": {},
   "outputs": [
    {
     "data": {
      "text/plain": [
       "['Test', 'this,sentence']"
      ]
     },
     "execution_count": 42,
     "metadata": {},
     "output_type": "execute_result"
    }
   ],
   "source": [
    "str1 = \"Test,this,sentence\"\n",
    "split = str1.split(\",\",1)\n",
    "split"
   ]
  },
  {
   "cell_type": "code",
   "execution_count": null,
   "metadata": {},
   "outputs": [],
   "source": []
  }
 ],
 "metadata": {
  "kernelspec": {
   "display_name": "Python 3",
   "language": "python",
   "name": "python3"
  },
  "language_info": {
   "codemirror_mode": {
    "name": "ipython",
    "version": 3
   },
   "file_extension": ".py",
   "mimetype": "text/x-python",
   "name": "python",
   "nbconvert_exporter": "python",
   "pygments_lexer": "ipython3",
   "version": "3.7.3"
  }
 },
 "nbformat": 4,
 "nbformat_minor": 2
}
