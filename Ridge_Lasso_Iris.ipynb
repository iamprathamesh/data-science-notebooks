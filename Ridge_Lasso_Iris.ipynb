{
 "cells": [
  {
   "cell_type": "code",
   "execution_count": 6,
   "metadata": {},
   "outputs": [],
   "source": [
    "import pandas as pd\n",
    "df = pd.read_csv(\"assets/iris.csv\")\n",
    "X = df[[\"Sepal.Width\",\"Petal.Length\",\"Petal.Width\"]]\n",
    "Y = df[[\"Sepal.Length\"]]\n",
    "\n",
    "from sklearn.model_selection import train_test_split\n",
    "xtrain,xtest,ytrain,ytest = train_test_split(X, Y, test_size = 0.2, random_state = 21)"
   ]
  },
  {
   "cell_type": "markdown",
   "metadata": {},
   "source": [
    "# MLR Model\n"
   ]
  },
  {
   "cell_type": "code",
   "execution_count": 7,
   "metadata": {},
   "outputs": [],
   "source": [
    "from sklearn.linear_model import LinearRegression\n",
    "lm = LinearRegression()\n",
    "model = lm.fit(xtrain,ytrain)\n",
    "pred = model.predict(xtest)\n",
    "\n",
    "from sklearn.metrics import mean_absolute_error\n",
    "MAE_MLR = mean_absolute_error(ytest, pred)"
   ]
  },
  {
   "cell_type": "markdown",
   "metadata": {},
   "source": [
    "# RIDGE Model"
   ]
  },
  {
   "cell_type": "code",
   "execution_count": 8,
   "metadata": {},
   "outputs": [],
   "source": [
    "from sklearn.linear_model import Ridge\n",
    "rr = Ridge()\n",
    "\n",
    "from sklearn.model_selection import GridSearchCV\n",
    "param = {\"alpha\": [0.01, 0.02, 0.03, 0.04, 0.05, 0.06]}\n",
    "\n",
    "cv_rr = GridSearchCV(rr,param,scoring=\"neg_mean_squared_error\",cv=4)\n",
    "model_rr = cv_rr.fit(xtrain, ytrain)\n",
    "pred_rr = model_rr.predict(xtest)\n",
    "MAE_RR = mean_absolute_error(ytest, pred_rr)"
   ]
  },
  {
   "cell_type": "markdown",
   "metadata": {},
   "source": [
    "# LASSO Model"
   ]
  },
  {
   "cell_type": "code",
   "execution_count": 9,
   "metadata": {},
   "outputs": [],
   "source": [
    "from sklearn.linear_model import Lasso\n",
    "lso = Lasso()\n",
    "\n",
    "cv_lso = GridSearchCV(lso,param,scoring=\"neg_mean_squared_error\",cv=4)\n",
    "model_lso = cv_lso.fit(xtrain, ytrain)\n",
    "pred_lso = model_lso.predict(xtest)\n",
    "MAE_LSO = mean_absolute_error(ytest, pred_lso)"
   ]
  },
  {
   "cell_type": "code",
   "execution_count": 10,
   "metadata": {},
   "outputs": [
    {
     "name": "stdout",
     "output_type": "stream",
     "text": [
      "0.2533073864258652\n",
      "0.2529648755681742\n",
      "0.24458729287481956\n",
      "{'alpha': 0.01}\n"
     ]
    }
   ],
   "source": [
    "print(MAE_MLR)\n",
    "print(MAE_RR)\n",
    "print(MAE_LSO)\n",
    "print(cv_lso.best_params_)"
   ]
  }
 ],
 "metadata": {
  "kernelspec": {
   "display_name": "Python 3",
   "language": "python",
   "name": "python3"
  },
  "language_info": {
   "codemirror_mode": {
    "name": "ipython",
    "version": 3
   },
   "file_extension": ".py",
   "mimetype": "text/x-python",
   "name": "python",
   "nbconvert_exporter": "python",
   "pygments_lexer": "ipython3",
   "version": "3.7.3"
  }
 },
 "nbformat": 4,
 "nbformat_minor": 2
}
