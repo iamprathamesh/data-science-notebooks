{
 "cells": [
  {
   "cell_type": "code",
   "execution_count": null,
   "metadata": {},
   "outputs": [],
   "source": [
    "import pandas as pd\n",
    "from sklearn.preprocessing import LabelEncoder\n",
    "df = pd.read_csv(\"assets/Cars93.csv\")\n",
    "le = LabelEncoder()\n",
    "df2 = df.apply(le.fit_transform)\n",
    "df2.head()"
   ]
  },
  {
   "cell_type": "code",
   "execution_count": null,
   "metadata": {},
   "outputs": [],
   "source": [
    "X = df2[df2.columns[~df2.columns.isin(['Type'])]]\n",
    "Y = df2[['Type']]\n",
    "from sklearn.model_selection import train_test_split\n",
    "xtrain,xtest,ytrain,ytest = train_test_split(X,Y,test_size = 0.2, random_state = 25)"
   ]
  },
  {
   "cell_type": "code",
   "execution_count": null,
   "metadata": {},
   "outputs": [],
   "source": [
    "import seaborn as sb\n",
    "sb.distplot(Y)\n",
    "sb.distplot(ytest)"
   ]
  },
  {
   "cell_type": "markdown",
   "metadata": {},
   "source": [
    "# Decision Tree\n"
   ]
  },
  {
   "cell_type": "code",
   "execution_count": null,
   "metadata": {},
   "outputs": [],
   "source": [
    "from sklearn.tree import DecisionTreeClassifier\n",
    "from sklearn.metrics import confusion_matrix,accuracy_score\n",
    "dtc = DecisionTreeClassifier(criterion='gini',max_leaf_nodes=12,random_state=22)\n",
    "dtcmodel = dtc.fit(xtrain,ytrain)\n",
    "dtcpred = dtcmodel.predict(xtest)\n",
    "cmdtc = confusion_matrix(ytest,dtcpred)\n",
    "accdtc = accuracy_score(ytest,dtcpred)\n",
    "print(cmdtc, accdtc)"
   ]
  },
  {
   "cell_type": "markdown",
   "metadata": {},
   "source": [
    "# Tuning Decision Tree\n"
   ]
  },
  {
   "cell_type": "code",
   "execution_count": null,
   "metadata": {},
   "outputs": [],
   "source": [
    "from sklearn.model_selection import GridSearchCV\n",
    "paramsdtc = {\"max_leaf_nodes\": range(2,50,1), \"random_state\": range(2,50,1)}\n",
    "dtc = DecisionTreeClassifier(criterion='gini')\n",
    "cvdtc = GridSearchCV(dtc,paramsdtc,scoring=\"accuracy\",cv=3)\n",
    "cvdtcmodel = cvdtc.fit(xtrain,ytrain)\n",
    "cvdtcmodel.best_params_"
   ]
  },
  {
   "cell_type": "markdown",
   "metadata": {},
   "source": [
    "# Random Forest"
   ]
  },
  {
   "cell_type": "code",
   "execution_count": null,
   "metadata": {},
   "outputs": [],
   "source": [
    "from sklearn.ensemble import RandomForestClassifier\n",
    "rfc = RandomForestClassifier(n_estimators=60,random_state=22,max_leaf_nodes=12)\n",
    "rfcmodel = rfc.fit(xtrain,ytrain)\n",
    "rfcpred = rfcmodel.predict(xtest)\n",
    "cmrfc = confusion_matrix(ytest,rfcpred)\n",
    "accrfc = accuracy_score(ytest,rfcpred)\n",
    "print(cmrfc, accrfc)"
   ]
  },
  {
   "cell_type": "markdown",
   "metadata": {},
   "source": [
    "# Tuning Random Forest"
   ]
  },
  {
   "cell_type": "code",
   "execution_count": null,
   "metadata": {
    "scrolled": false
   },
   "outputs": [],
   "source": [
    "paramsrfc = {\"n_estimators\": range(2,100,1)}\n",
    "rfc = RandomForestClassifier(max_leaf_nodes=12,random_state=22)\n",
    "cvrfc = GridSearchCV(rfc,paramsrfc,scoring=\"accuracy\",cv=3)\n",
    "cvrfcmodel = cvrfc.fit(xtrain,ytrain)\n",
    "cvrfcmodel.best_params_"
   ]
  },
  {
   "cell_type": "markdown",
   "metadata": {},
   "source": [
    "# Adaptive Boosting"
   ]
  },
  {
   "cell_type": "code",
   "execution_count": null,
   "metadata": {},
   "outputs": [],
   "source": [
    "from sklearn.ensemble import AdaBoostClassifier\n",
    "abc = AdaBoostClassifier(DecisionTreeClassifier(max_depth=2))\n",
    "abcmodel = abc.fit(xtrain,ytrain)\n",
    "abcpred = abcmodel.predict(xtest)\n",
    "from sklearn.metrics import confusion_matrix,accuracy_score\n",
    "cmabc = confusion_matrix(ytest,abcpred)\n",
    "accabc = accuracy_score(ytest,abcpred)\n",
    "print(cmabc, accabc)\n"
   ]
  },
  {
   "cell_type": "markdown",
   "metadata": {},
   "source": [
    "# Tuning Adaboost"
   ]
  },
  {
   "cell_type": "raw",
   "metadata": {},
   "source": [
    "paramsabc = {\"n_estimators\": range(2,100,1)}\n",
    "rfc = RandomForestClassifier(max_leaf_nodes=12,random_state=22)\n",
    "cvrfc = GridSearchCV(rfc,paramsrfc,scoring=\"accuracy\",cv=3)\n",
    "cvrfcmodel = cvrfc.fit(xtrain,ytrain)\n",
    "cvrfcmodel.best_params_"
   ]
  }
 ],
 "metadata": {
  "kernelspec": {
   "display_name": "Python 3",
   "language": "python",
   "name": "python3"
  },
  "language_info": {
   "codemirror_mode": {
    "name": "ipython",
    "version": 3
   },
   "file_extension": ".py",
   "mimetype": "text/x-python",
   "name": "python",
   "nbconvert_exporter": "python",
   "pygments_lexer": "ipython3",
   "version": "3.7.3"
  }
 },
 "nbformat": 4,
 "nbformat_minor": 2
}
