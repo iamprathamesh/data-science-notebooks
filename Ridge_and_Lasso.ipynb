{
 "cells": [
  {
   "cell_type": "code",
   "execution_count": 27,
   "metadata": {},
   "outputs": [],
   "source": [
    "import pandas as pd\n",
    "columnNames = [\"RND\",\"ADMIN\",\"MKT\",\"STATE\",\"PROFIT\"]\n",
    "df = pd.read_csv(\"assets/50_Startups.csv\", header=None, names=columnNames)\n",
    "X = df[[\"RND\",\"MKT\"]]\n",
    "Y = df[[\"PROFIT\"]]\n",
    "from sklearn.model_selection import train_test_split\n",
    "xtrain,xtest,ytrain,ytest = train_test_split(X, Y, test_size = 0.2, random_state = 21)"
   ]
  },
  {
   "cell_type": "markdown",
   "metadata": {},
   "source": [
    "# MLR Model\n"
   ]
  },
  {
   "cell_type": "code",
   "execution_count": 28,
   "metadata": {},
   "outputs": [],
   "source": [
    "from sklearn.linear_model import LinearRegression\n",
    "lm = LinearRegression()\n",
    "model = lm.fit(xtrain,ytrain)\n",
    "pred = model.predict(xtest)\n",
    "\n",
    "from sklearn.metrics import mean_absolute_error\n",
    "MAE_MLR = mean_absolute_error(ytest, pred)"
   ]
  },
  {
   "cell_type": "markdown",
   "metadata": {},
   "source": [
    "# RIDGE Model\n"
   ]
  },
  {
   "cell_type": "code",
   "execution_count": 29,
   "metadata": {},
   "outputs": [],
   "source": [
    "from sklearn.linear_model import Ridge\n",
    "rr = Ridge()\n",
    "\n",
    "from sklearn.model_selection import GridSearchCV\n",
    "param = {\"alpha\": [0.01, 0.02, 0.03, 0.04, 0.05, 0.06]}\n",
    "\n",
    "cv_rr = GridSearchCV(rr,param,scoring=\"neg_mean_squared_error\",cv=4)\n",
    "model_rr = cv_rr.fit(xtrain, ytrain)\n",
    "pred_rr = model_rr.predict(xtest)\n",
    "MAE_RR = mean_absolute_error(ytest, pred_rr)"
   ]
  },
  {
   "cell_type": "code",
   "execution_count": 30,
   "metadata": {},
   "outputs": [
    {
     "data": {
      "text/plain": [
       "{'alpha': 0.04}"
      ]
     },
     "execution_count": 30,
     "metadata": {},
     "output_type": "execute_result"
    }
   ],
   "source": [
    "cv.best_params_\n"
   ]
  },
  {
   "cell_type": "markdown",
   "metadata": {},
   "source": [
    "# LASSO Model\n"
   ]
  },
  {
   "cell_type": "code",
   "execution_count": 31,
   "metadata": {},
   "outputs": [],
   "source": [
    "from sklearn.linear_model import Lasso\n",
    "lso = Lasso()\n",
    "\n",
    "cv_lso = GridSearchCV(lso,param,scoring=\"neg_mean_squared_error\",cv=4)\n",
    "model_lso = cv_lso.fit(xtrain, ytrain)\n",
    "pred_lso = model_lso.predict(xtest)\n",
    "MAE_LSO = mean_absolute_error(ytest, pred_lso)"
   ]
  },
  {
   "cell_type": "code",
   "execution_count": 32,
   "metadata": {},
   "outputs": [
    {
     "name": "stdout",
     "output_type": "stream",
     "text": [
      "5916.047378112387\n",
      "5916.047378111494\n",
      "5916.047378192101\n"
     ]
    }
   ],
   "source": [
    "print(MAE_MLR)\n",
    "print(MAE_RR)\n",
    "print(MAE_LSO)"
   ]
  },
  {
   "cell_type": "code",
   "execution_count": null,
   "metadata": {},
   "outputs": [],
   "source": []
  }
 ],
 "metadata": {
  "kernelspec": {
   "display_name": "Python 3",
   "language": "python",
   "name": "python3"
  },
  "language_info": {
   "codemirror_mode": {
    "name": "ipython",
    "version": 3
   },
   "file_extension": ".py",
   "mimetype": "text/x-python",
   "name": "python",
   "nbconvert_exporter": "python",
   "pygments_lexer": "ipython3",
   "version": "3.7.3"
  }
 },
 "nbformat": 4,
 "nbformat_minor": 2
}
